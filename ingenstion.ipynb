{
 "cells": [
  {
   "cell_type": "code",
   "execution_count": 1,
   "metadata": {},
   "outputs": [],
   "source": [
    "import os \n",
    "import getpass \n",
    "import re\n",
    "import mailparser \n",
    "from llama_index.core import Settings\n",
    "from llama_index.llms.openai import OpenAI\n",
    "from llama_index.embeddings.openai import OpenAIEmbedding\n",
    "from llama_index.core import VectorStoreIndex\n",
    "from llama_index.vector_stores.chroma import ChromaVectorStore\n",
    "\n",
    "from llama_index.core.node_parser import SentenceSplitter, SentenceWindowNodeParser, MetadataAwareTextSplitter, SentenceSplitter\n",
    "from llama_index.core import Document\n",
    "import uuid"
   ]
  },
  {
   "cell_type": "code",
   "execution_count": 2,
   "metadata": {},
   "outputs": [],
   "source": [
    "embed_model = OpenAIEmbedding(model=\"text-embedding-3-large\")\n",
    "llm = OpenAI(model=\"gpt-4o-mini\")\n",
    "\n",
    "Settings.embed_model = embed_model\n",
    "Settings.llm = llm\n",
    "\n",
    "# Email class\n",
    "\n",
    "class Email():\n",
    "    def __init__(self, mail):\n",
    "        self.date = mail.headers.get('Date', 'N/A')\n",
    "        self.from_ = mail.headers.get('From', 'N/A')\n",
    "        self.to = mail.headers.get('To', 'N/A')\n",
    "        self.cc = mail.headers.get('cc', 'N/A')\n",
    "        self.subject = mail.headers.get('Subject', 'N/A')\n",
    "        self.body = mail.body if mail.body else 'N/A'\n",
    "        self.attachments = []\n",
    "        #self.attachments = mail.attachments if mail.attachments else []\n",
    "\n",
    "def preprocess_email_body(body):\n",
    "    \"\"\"\n",
    "    Preprocess email body by removing HTML content and recurring boilerplate text.\n",
    "    \n",
    "    Args:\n",
    "        email_body (str): The raw email body text\n",
    "    \n",
    "    Returns:\n",
    "        str: Cleaned email body text\n",
    "    \"\"\"\n",
    "    # Remove HTML content (anything after the mail_boundary tag)\n",
    "    if \"--- mail_boundary ---\" in body:\n",
    "        body = body.split(\"--- mail_boundary ---\")[0].strip()\n",
    "    \n",
    "    # Define patterns to remove\n",
    "    patterns = [\n",
    "        # Contact information and corporate details - more general pattern\n",
    "        # Matches lines with \"Tel.:\" plus any content up to and including the address line\n",
    "        r\"Tel\\.:.*?[\\r\\n].*?Fritz-Erler-Str\\. 25 - 76133 Karlsruhe\",\n",
    "\n",
    "        r\"Telefon:.*?[\\r\\n].*?Fritz-Erler-Str\\. 25 - 76133 Karlsruhe\",\n",
    "        \n",
    "        # Website URL\n",
    "        r\"www\\.ingenieurgruppe-bauen\\.de\",\n",
    "        \n",
    "        # Company information\n",
    "        r\"BERATENDE INGENIEURE VBI *PRÜFINGENIEURE VPI.*?KARLSRUHE *\\| *MANNHEIM *\\| *BERLIN *\\| *FREIBURG\",\n",
    "        \n",
    "        # Confidentiality notice\n",
    "        r\"Diese E-Mail einschl\\. Anlage\\(n\\) enthält vertrauliche und/oder rechtlich.*?stattet\\.\",\n",
    "        \n",
    "        # Extra whitespace and blank lines at the end\n",
    "        r\"\\n\\s*\\n\\s*$\"\n",
    "    ]\n",
    "    \n",
    "    # Apply the patterns\n",
    "    for pattern in patterns:\n",
    "        body = re.sub(pattern, \"\", body, flags=re.DOTALL)\n",
    "    \n",
    "    # Clean up extra whitespace\n",
    "    body = re.sub(r\"\\n{3,}\", \"\\n\\n\", body)\n",
    "    \n",
    "    return body.strip()\n",
    "\n",
    "def parse_email(mail):\n",
    "    email = Email(mail)\n",
    "    \n",
    "    node_parser = SentenceSplitter(chunk_size=150, chunk_overlap=20)\n",
    "    nodes = node_parser.get_nodes_from_documents(\n",
    "        [Document(text=preprocess_email_body(email.body))]\n",
    "    )\n",
    "\n",
    "    mail_uuid = uuid.uuid4()\n",
    "    for i, node in enumerate(nodes, start=1):\n",
    "        node.metadata['uuid'] = str(mail_uuid)\n",
    "        node.metadata['date'] = str(email.date)\n",
    "        node.metadata['from'] = str(email.from_)\n",
    "        node.metadata['to'] = str(mail.to)\n",
    "        node.metadata['subject'] = str(email.subject)\n",
    "        node.metadata['attachments'] = None\n",
    "        node.metadata['num'] = i\n",
    "\n",
    "    \n",
    "    return nodes\n",
    "\n",
    "persist_dir = \"storage_chroma\"\n",
    "\n",
    "vector_store = ChromaVectorStore.from_params(\n",
    "    collection_name=\"text_nodes\", persist_dir=persist_dir\n",
    ")\n",
    "index = VectorStoreIndex.from_vector_store(vector_store, embed_model=embed_model)\n"
   ]
  },
  {
   "cell_type": "code",
   "execution_count": 3,
   "metadata": {},
   "outputs": [
    {
     "data": {
      "text/plain": [
       "[TextNode(id_='41bc5535-0264-454f-868e-f8a0de3afb08', embedding=None, metadata={'uuid': '2d48b172-9efe-414e-abc3-3da1b6477cd2', 'date': 'Thu, 04 Feb 2016 08:27:00 +0100', 'from': \"[('Martin Rudolf', 'martin.rudolf@ingenieurgruppe-bauen.de')]\", 'to': \"[('', 'Falko.Arend@mobil.hessen.de')]\", 'subject': 'Fuldabrücke Bergshausen FTP-Server', 'attachments': None, 'num': 1}, excluded_embed_metadata_keys=[], excluded_llm_metadata_keys=[], relationships={<NodeRelationship.SOURCE: '1'>: RelatedNodeInfo(node_id='46fb4dc3-8c4f-4a68-94a4-4fb60cb33ecf', node_type=<ObjectType.DOCUMENT: '4'>, metadata={}, hash='bc3c1f6ae4b70e68afd6e270299416cf97a1f5bb5f9618b5c65ab601ac079326'), <NodeRelationship.NEXT: '3'>: RelatedNodeInfo(node_id='2abddc70-de94-4733-880f-d30cfc54dc43', node_type=<ObjectType.TEXT: '1'>, metadata={}, hash='f65f99ebc3a92c2bf46048763335040520329e47b3b4faff8b705e003ed37603')}, metadata_template='{key}: {value}', metadata_separator='\\n', text='Sehr geehrter Herr Arend,\\n\\nwie vereinbart schicke ich Ihnen anbei die Zugangsdaten für den\\nFTP-Zugang, den wir für das Projekt \"Fuldabrücke Bergshausen\"\\nnutzen.\\n\\nServername:                     ftp.ingenieurgruppe-bauen.de\\nBenutzername:               igbf2\\nPasswort:                           Koh_cM9k\\n\\nIch schlage vor, dass wir alle Abgabeunterlagen bzw. Unterlagen zur Information\\ndort ablegen. Im Moment sind dies das Besprechungsprotokoll des Startgesprächs\\nund die Bilder des Ortstermins am 26.01.2016.', mimetype='text/plain', start_char_idx=0, end_char_idx=507, metadata_seperator='\\n', text_template='{metadata_str}\\n\\n{content}'),\n",
       " TextNode(id_='2abddc70-de94-4733-880f-d30cfc54dc43', embedding=None, metadata={'uuid': '2d48b172-9efe-414e-abc3-3da1b6477cd2', 'date': 'Thu, 04 Feb 2016 08:27:00 +0100', 'from': \"[('Martin Rudolf', 'martin.rudolf@ingenieurgruppe-bauen.de')]\", 'to': \"[('', 'Falko.Arend@mobil.hessen.de')]\", 'subject': 'Fuldabrücke Bergshausen FTP-Server', 'attachments': None, 'num': 2}, excluded_embed_metadata_keys=[], excluded_llm_metadata_keys=[], relationships={<NodeRelationship.SOURCE: '1'>: RelatedNodeInfo(node_id='46fb4dc3-8c4f-4a68-94a4-4fb60cb33ecf', node_type=<ObjectType.DOCUMENT: '4'>, metadata={}, hash='bc3c1f6ae4b70e68afd6e270299416cf97a1f5bb5f9618b5c65ab601ac079326'), <NodeRelationship.PREVIOUS: '2'>: RelatedNodeInfo(node_id='41bc5535-0264-454f-868e-f8a0de3afb08', node_type=<ObjectType.TEXT: '1'>, metadata={}, hash='c8cc6143e32a2dc7dba9c0990a979651fe6066818a566eb3b99025922217b8ea')}, metadata_template='{key}: {value}', metadata_separator='\\n', text='Viele Grüße\\n \\r\\ni.A. Martin Rudolf.\\n                                                                                                     \\r\\n \\r\\nDipl.-Ing. Martin Rudolf\\nGruppenleiter\\n \\r\\n                                           \\r\\n                                                \\r\\n\\xad\\xad\\xad\\xad\\xad\\xad\\xad\\xad\\xad\\xad\\xad\\xad\\xad\\xad\\xad\\xad\\xad\\xad\\xad\\xad\\xad\\xad\\xad\\xad', mimetype='text/plain', start_char_idx=509, end_char_idx=811, metadata_seperator='\\n', text_template='{metadata_str}\\n\\n{content}'),\n",
       " TextNode(id_='582643ca-0b7f-4926-8252-b062cad690af', embedding=None, metadata={'uuid': 'f7d49618-112f-4dc4-86d8-8cd350b80a31', 'date': 'Mon, 01 Feb 2016 09:06:00 +0100', 'from': \"[('Martin Rudolf', 'martin.rudolf@ingenieurgruppe-bauen.de')]\", 'to': '[(\"\\'Ralf Hundertmark/INTERN\\'\", \\'Ralf.Hundertmark@mobil.hessen.de\\')]', 'subject': 'Zugesagt: A44-Notinstandsetzung Fuldabrücke Bergshausen: Planungsbesprechung', 'attachments': None, 'num': 1}, excluded_embed_metadata_keys=[], excluded_llm_metadata_keys=[], relationships={<NodeRelationship.SOURCE: '1'>: RelatedNodeInfo(node_id='c0059141-1a3d-4d34-997b-8a17430f6040', node_type=<ObjectType.DOCUMENT: '4'>, metadata={}, hash='a65422c2357fb9b416990b0a9f4ebd83ac4d9cd580c06803b4e1754a3a266343')}, metadata_template='{key}: {value}', metadata_separator='\\n', text='N/A', mimetype='text/plain', start_char_idx=0, end_char_idx=3, metadata_seperator='\\n', text_template='{metadata_str}\\n\\n{content}'),\n",
       " TextNode(id_='356ceaad-6825-407f-b0db-f60bb5656b4e', embedding=None, metadata={'uuid': '3dd40b04-b8a4-4547-ab82-a1cedccf4ddf', 'date': 'Mon, 15 Feb 2016 10:18:00 +0100', 'from': \"[('Patrick Höhl', 'patrick.hoehl@ingenieurgruppe-bauen.de')]\", 'to': \"[('', 'Falko.Arend@mobil.hessen.de')]\", 'subject': 'A44 Ertüchtigung Fuldatalbrücke Bergshausen - Konzept zur Probenentnahme und Vermessung ohne Untersichtgerät', 'attachments': None, 'num': 1}, excluded_embed_metadata_keys=[], excluded_llm_metadata_keys=[], relationships={<NodeRelationship.SOURCE: '1'>: RelatedNodeInfo(node_id='91c6cde9-3a46-4bee-b435-7e5064984a51', node_type=<ObjectType.DOCUMENT: '4'>, metadata={}, hash='ce3452e30f9326794830bfb788473f34e55df156772a932ca324817ca2bb90a7'), <NodeRelationship.NEXT: '3'>: RelatedNodeInfo(node_id='885ebbb9-46ed-4a63-bba0-ff2973b66082', node_type=<ObjectType.TEXT: '1'>, metadata={}, hash='c2e711ed3baa6a9d454149eec0634ddd00fad8fc01b35523c0a4c486652451aa')}, metadata_template='{key}: {value}', metadata_separator='\\n', text='Sehr geehrter Herr Arend,\\n \\r\\nanbei erhalten Sie einen Vorabzug des Konzepts zur Probenentnahme und Vermessung mit der Bitte um Durchsicht. Das beigefügte Konzept verzichtet vollständig auf den Einsatz eines mobilen Brückenuntersichtgeräts. Durch gezielte Auswahl der Stellen zu Probenentnahme kann das mobile Brückenuntersichtgerät durch einen Hubsteiger ersetzt werden.', mimetype='text/plain', start_char_idx=0, end_char_idx=370, metadata_seperator='\\n', text_template='{metadata_str}\\n\\n{content}'),\n",
       " TextNode(id_='885ebbb9-46ed-4a63-bba0-ff2973b66082', embedding=None, metadata={'uuid': '3dd40b04-b8a4-4547-ab82-a1cedccf4ddf', 'date': 'Mon, 15 Feb 2016 10:18:00 +0100', 'from': \"[('Patrick Höhl', 'patrick.hoehl@ingenieurgruppe-bauen.de')]\", 'to': \"[('', 'Falko.Arend@mobil.hessen.de')]\", 'subject': 'A44 Ertüchtigung Fuldatalbrücke Bergshausen - Konzept zur Probenentnahme und Vermessung ohne Untersichtgerät', 'attachments': None, 'num': 2}, excluded_embed_metadata_keys=[], excluded_llm_metadata_keys=[], relationships={<NodeRelationship.SOURCE: '1'>: RelatedNodeInfo(node_id='91c6cde9-3a46-4bee-b435-7e5064984a51', node_type=<ObjectType.DOCUMENT: '4'>, metadata={}, hash='ce3452e30f9326794830bfb788473f34e55df156772a932ca324817ca2bb90a7'), <NodeRelationship.PREVIOUS: '2'>: RelatedNodeInfo(node_id='356ceaad-6825-407f-b0db-f60bb5656b4e', node_type=<ObjectType.TEXT: '1'>, metadata={}, hash='e1d6a776eae0ae988458348725f93ece6fabbfeb794fa88a57ccde1155f8d715'), <NodeRelationship.NEXT: '3'>: RelatedNodeInfo(node_id='257b740a-0ab2-4f67-b190-54e6a4ca0ae0', node_type=<ObjectType.TEXT: '1'>, metadata={}, hash='b4df1ea5b093934842049c1d39589dfb3f9473abf7e875221e80da5528dfde03')}, metadata_template='{key}: {value}', metadata_separator='\\n', text='Die gewonnenen Erkenntnisse sind in ihrer Aussagekraft vergleichbar mit solchen, die unter Inkaufnahme wesentlich stärkerer Verkehrsbeeinträchtigungen erzielt werden können. Die Vorteile bezüglich des Verkehrsflusses wiegen die Nachteile beim Erkenntnisgewinn (Probenentnahme und Probebelastung) aus Sicht der ARGE auf.', mimetype='text/plain', start_char_idx=371, end_char_idx=690, metadata_seperator='\\n', text_template='{metadata_str}\\n\\n{content}'),\n",
       " TextNode(id_='257b740a-0ab2-4f67-b190-54e6a4ca0ae0', embedding=None, metadata={'uuid': '3dd40b04-b8a4-4547-ab82-a1cedccf4ddf', 'date': 'Mon, 15 Feb 2016 10:18:00 +0100', 'from': \"[('Patrick Höhl', 'patrick.hoehl@ingenieurgruppe-bauen.de')]\", 'to': \"[('', 'Falko.Arend@mobil.hessen.de')]\", 'subject': 'A44 Ertüchtigung Fuldatalbrücke Bergshausen - Konzept zur Probenentnahme und Vermessung ohne Untersichtgerät', 'attachments': None, 'num': 3}, excluded_embed_metadata_keys=[], excluded_llm_metadata_keys=[], relationships={<NodeRelationship.SOURCE: '1'>: RelatedNodeInfo(node_id='91c6cde9-3a46-4bee-b435-7e5064984a51', node_type=<ObjectType.DOCUMENT: '4'>, metadata={}, hash='ce3452e30f9326794830bfb788473f34e55df156772a932ca324817ca2bb90a7'), <NodeRelationship.PREVIOUS: '2'>: RelatedNodeInfo(node_id='885ebbb9-46ed-4a63-bba0-ff2973b66082', node_type=<ObjectType.TEXT: '1'>, metadata={}, hash='c2e711ed3baa6a9d454149eec0634ddd00fad8fc01b35523c0a4c486652451aa'), <NodeRelationship.NEXT: '3'>: RelatedNodeInfo(node_id='ab50dc87-76cc-41b1-9573-1c4da6d73e79', node_type=<ObjectType.TEXT: '1'>, metadata={}, hash='507bed3e5553c3408e294e97a0d4214fc6c48de3006a54e635d36ecf07c25de2')}, metadata_template='{key}: {value}', metadata_separator='\\n', text='Dem Konzept ist ein vorläufiger Terminplan beigefügt, der gegenüber dem Terminplan im VOF-Verfahren verfeinert wurde, aber aufgrund der noch ausstehenden Abstimmung mit den Subunternehmern mit Unsicherheiten behaftet ist.\\n \\r\\nZum Vergleich schicke ich Ihnen auch das alternative Konzept mit Einsatz eines mobilen Brückenuntersichtgeräts. Aufgrund der Dateigröße erhalten Sie es in einer separaten E-Mail in Kürze.\\n \\r\\nFür Rückfragen stehe ich Ihnen selbstverständlich gerne zur Verfügung.\\n \\r\\nMit freundlichen Grüßen \\r\\n \\r\\ni.A. Dipl.-Ing.', mimetype='text/plain', start_char_idx=691, end_char_idx=1225, metadata_seperator='\\n', text_template='{metadata_str}\\n\\n{content}'),\n",
       " TextNode(id_='ab50dc87-76cc-41b1-9573-1c4da6d73e79', embedding=None, metadata={'uuid': '3dd40b04-b8a4-4547-ab82-a1cedccf4ddf', 'date': 'Mon, 15 Feb 2016 10:18:00 +0100', 'from': \"[('Patrick Höhl', 'patrick.hoehl@ingenieurgruppe-bauen.de')]\", 'to': \"[('', 'Falko.Arend@mobil.hessen.de')]\", 'subject': 'A44 Ertüchtigung Fuldatalbrücke Bergshausen - Konzept zur Probenentnahme und Vermessung ohne Untersichtgerät', 'attachments': None, 'num': 4}, excluded_embed_metadata_keys=[], excluded_llm_metadata_keys=[], relationships={<NodeRelationship.SOURCE: '1'>: RelatedNodeInfo(node_id='91c6cde9-3a46-4bee-b435-7e5064984a51', node_type=<ObjectType.DOCUMENT: '4'>, metadata={}, hash='ce3452e30f9326794830bfb788473f34e55df156772a932ca324817ca2bb90a7'), <NodeRelationship.PREVIOUS: '2'>: RelatedNodeInfo(node_id='257b740a-0ab2-4f67-b190-54e6a4ca0ae0', node_type=<ObjectType.TEXT: '1'>, metadata={}, hash='b4df1ea5b093934842049c1d39589dfb3f9473abf7e875221e80da5528dfde03')}, metadata_template='{key}: {value}', metadata_separator='\\n', text='Mit freundlichen Grüßen \\r\\n \\r\\ni.A. Dipl.-Ing. Patrick Höhl', mimetype='text/plain', start_char_idx=1181, end_char_idx=1238, metadata_seperator='\\n', text_template='{metadata_str}\\n\\n{content}'),\n",
       " TextNode(id_='4aae9f25-2e40-4c8d-8498-9b803c07bdcd', embedding=None, metadata={'uuid': '2cd61bdd-bd6f-41b2-8526-316e5a2c9cd5', 'date': 'Mon, 15 Feb 2016 10:19:00 +0100', 'from': \"[('Patrick Höhl', 'patrick.hoehl@ingenieurgruppe-bauen.de')]\", 'to': \"[('', 'Falko.Arend@mobil.hessen.de')]\", 'subject': 'A44 Ertüchtigung Fuldatalbrücke Bergshausen - Konzept zur Probenentnahme und Vermessung mit Untersichtgerät', 'attachments': None, 'num': 1}, excluded_embed_metadata_keys=[], excluded_llm_metadata_keys=[], relationships={<NodeRelationship.SOURCE: '1'>: RelatedNodeInfo(node_id='f8231410-3141-4ae0-97ed-fa925ae31739', node_type=<ObjectType.DOCUMENT: '4'>, metadata={}, hash='1d396f032da539c6c84d36d663e8b6c20ab90f13178a7bfc1768d1fccd966bd0')}, metadata_template='{key}: {value}', metadata_separator='\\n', text='Sehr geehrter Herr Arend,\\n \\r\\nanbei erhalten Sie das alternative Konzept zur Probenentnahme und Vermessung mit Untersichtgerät.\\n \\r\\nMit freundlichen Grüßen \\r\\n \\r\\ni.A. Dipl.-Ing. Patrick Höhl', mimetype='text/plain', start_char_idx=0, end_char_idx=187, metadata_seperator='\\n', text_template='{metadata_str}\\n\\n{content}'),\n",
       " TextNode(id_='13f8b0b7-2c32-4abc-ab86-6bc3bd26c609', embedding=None, metadata={'uuid': '2e880f75-1b14-475a-9c7c-0a0480008e3b', 'date': 'Thu, 14 Jan 2016 09:53:00 +0100', 'from': \"[('Patrick Höhl', 'patrick.hoehl@ingenieurgruppe-bauen.de')]\", 'to': \"[('Johannes Henze (johannes.henze@mobil.hessen.de)', 'johannes.henze@mobil.hessen.de')]\", 'subject': 'A44 Ertüchtigung Fuldatalbrücke Bergshausen - Erster Ortstermin 26.01.16', 'attachments': None, 'num': 1}, excluded_embed_metadata_keys=[], excluded_llm_metadata_keys=[], relationships={<NodeRelationship.SOURCE: '1'>: RelatedNodeInfo(node_id='a350cdfb-23aa-498a-9830-e47946f15915', node_type=<ObjectType.DOCUMENT: '4'>, metadata={}, hash='c2fca44f45922d3a6a28d4a55d95f8569006d9e9d23cacc2d23451c3bd992d2d'), <NodeRelationship.NEXT: '3'>: RelatedNodeInfo(node_id='f8d40a02-134e-4dca-9b26-6b48d1adf556', node_type=<ObjectType.TEXT: '1'>, metadata={}, hash='477e11edde4aa65945a7f4441ade2bc3478e62d13dc14c791ba8adf25fef4bc2')}, metadata_template='{key}: {value}', metadata_separator='\\n', text='Sehr geehrter Herr Henze,\\n \\r\\nwie heute telefonisch besprochen bestätige ich Ihnen hiermit den Dienstag, 26.01.16 um 10:00 Uhr als ersten Ortstermin im Rahmen der o. g. Ertüchtigungsplanung. Treffpunkt ist der Rasthof \"Lohfelder Rüssel\" an der A7.\\n \\r\\nVon der Ingenieurgruppe Bauen werden Herr Rudolf, Herr Dölker und ich dabei sein. Vom Büro WTM aus Hamburg nimmt Herr Dr. Rauert teil.', mimetype='text/plain', start_char_idx=0, end_char_idx=384, metadata_seperator='\\n', text_template='{metadata_str}\\n\\n{content}'),\n",
       " TextNode(id_='f8d40a02-134e-4dca-9b26-6b48d1adf556', embedding=None, metadata={'uuid': '2e880f75-1b14-475a-9c7c-0a0480008e3b', 'date': 'Thu, 14 Jan 2016 09:53:00 +0100', 'from': \"[('Patrick Höhl', 'patrick.hoehl@ingenieurgruppe-bauen.de')]\", 'to': \"[('Johannes Henze (johannes.henze@mobil.hessen.de)', 'johannes.henze@mobil.hessen.de')]\", 'subject': 'A44 Ertüchtigung Fuldatalbrücke Bergshausen - Erster Ortstermin 26.01.16', 'attachments': None, 'num': 2}, excluded_embed_metadata_keys=[], excluded_llm_metadata_keys=[], relationships={<NodeRelationship.SOURCE: '1'>: RelatedNodeInfo(node_id='a350cdfb-23aa-498a-9830-e47946f15915', node_type=<ObjectType.DOCUMENT: '4'>, metadata={}, hash='c2fca44f45922d3a6a28d4a55d95f8569006d9e9d23cacc2d23451c3bd992d2d'), <NodeRelationship.PREVIOUS: '2'>: RelatedNodeInfo(node_id='13f8b0b7-2c32-4abc-ab86-6bc3bd26c609', node_type=<ObjectType.TEXT: '1'>, metadata={}, hash='96f67612ea19585812ee9e94c9cdc98912f0af00f04a6464613383a0fe3f74fc')}, metadata_template='{key}: {value}', metadata_separator='\\n', text='Vom Büro WTM aus Hamburg nimmt Herr Dr. Rauert teil.\\n \\r\\nZur Abstimmung unterwegs können Sie die Handynummer von Herrn Rudolf verwenden: 0173 9681546\\n \\r\\nFür eventuelle Rückfragen stehe ich Ihnen selbstverständlich gerne zur Verfügung.\\n \\r\\nMit freundlichen Grüßen \\r\\n \\r\\ni.A. Dipl.-Ing. Patrick Höhl', mimetype='text/plain', start_char_idx=332, end_char_idx=626, metadata_seperator='\\n', text_template='{metadata_str}\\n\\n{content}'),\n",
       " TextNode(id_='2878bb75-770c-43ad-9fe7-3b4c9a11552b', embedding=None, metadata={'uuid': 'a11fb4c5-e93b-425c-84aa-0c0cb764327f', 'date': 'Mon, 25 Jan 2016 16:16:00 +0100', 'from': \"[('Alfred Krill', 'alfred.krill@ingenieurgruppe-bauen.de')]\", 'to': '[(\"\\'Falko.Arend@mobil.hessen.de\\'\", \\'Falko.Arend@mobil.hessen.de\\'), (\"\\'Eberhard.Pelke@mobil.hessen.de\\'\", \\'Eberhard.Pelke@mobil.hessen.de\\'), (\"\\'Dieter.Berger@mobil.hessen.de\\'\", \\'Dieter.Berger@mobil.hessen.de\\'), (\"\\'Ralf.Hundertmark@mobil.hessen.de\\'\", \\'Ralf.Hundertmark@mobil.hessen.de\\'), (\"\\'martin.rudolf@ingenieurgruppe-bauen.de\\'\", \\'martin.rudolf@ingenieurgruppe-bauen.de\\'), (\"\\'Johannes Pauen\\'\", \\'johannes.pauen@ingenieurgruppe-bauen.de\\'), (\"\\'T.Rauert@wtm-hh.de\\'\", \\'T.Rauert@wtm-hh.de\\'), (\"\\'patrick.hoehl@ingenieurgruppe-bauen.de\\'\", \\'patrick.hoehl@ingenieurgruppe-bauen.de\\')]', 'subject': 'A44 - Fuldabrücke Bergshausen 1. Projektgespräch (Projekteröffnung 21.01.2016)_Revision 1', 'attachments': None, 'num': 1}, excluded_embed_metadata_keys=[], excluded_llm_metadata_keys=[], relationships={<NodeRelationship.SOURCE: '1'>: RelatedNodeInfo(node_id='1f48a27d-db21-4366-9710-5f91bfd9dc82', node_type=<ObjectType.DOCUMENT: '4'>, metadata={}, hash='486b78f3cab1673d4f51eb2b2def1c9ec04e60088eb1379aa27ccc2de19b7c94'), <NodeRelationship.NEXT: '3'>: RelatedNodeInfo(node_id='64a60795-3c2f-4ec1-a948-22c3b751b3ab', node_type=<ObjectType.TEXT: '1'>, metadata={}, hash='8e9cd41f3a4be4f1b2d84d823aa23632e6caa578afb87209fb3562f974d282ef')}, metadata_template='{key}: {value}', metadata_separator='\\n', text='Sehr geehrte Herren,\\n \\r\\nanbei erhalten Sie das verbesserte Besprechungsprotokoll (Revision 1) des Eröffnungsgespräches mit einer veränderten Anlage 2. In Dem Besprechungsprotokoll sind folgende Anmerkungen von Hr. Arend eingearbeitet.\\n \\r\\nTOP 1 (1.', mimetype='text/plain', start_char_idx=0, end_char_idx=247, metadata_seperator='\\n', text_template='{metadata_str}\\n\\n{content}'),\n",
       " TextNode(id_='64a60795-3c2f-4ec1-a948-22c3b751b3ab', embedding=None, metadata={'uuid': 'a11fb4c5-e93b-425c-84aa-0c0cb764327f', 'date': 'Mon, 25 Jan 2016 16:16:00 +0100', 'from': \"[('Alfred Krill', 'alfred.krill@ingenieurgruppe-bauen.de')]\", 'to': '[(\"\\'Falko.Arend@mobil.hessen.de\\'\", \\'Falko.Arend@mobil.hessen.de\\'), (\"\\'Eberhard.Pelke@mobil.hessen.de\\'\", \\'Eberhard.Pelke@mobil.hessen.de\\'), (\"\\'Dieter.Berger@mobil.hessen.de\\'\", \\'Dieter.Berger@mobil.hessen.de\\'), (\"\\'Ralf.Hundertmark@mobil.hessen.de\\'\", \\'Ralf.Hundertmark@mobil.hessen.de\\'), (\"\\'martin.rudolf@ingenieurgruppe-bauen.de\\'\", \\'martin.rudolf@ingenieurgruppe-bauen.de\\'), (\"\\'Johannes Pauen\\'\", \\'johannes.pauen@ingenieurgruppe-bauen.de\\'), (\"\\'T.Rauert@wtm-hh.de\\'\", \\'T.Rauert@wtm-hh.de\\'), (\"\\'patrick.hoehl@ingenieurgruppe-bauen.de\\'\", \\'patrick.hoehl@ingenieurgruppe-bauen.de\\')]', 'subject': 'A44 - Fuldabrücke Bergshausen 1. Projektgespräch (Projekteröffnung 21.01.2016)_Revision 1', 'attachments': None, 'num': 2}, excluded_embed_metadata_keys=[], excluded_llm_metadata_keys=[], relationships={<NodeRelationship.SOURCE: '1'>: RelatedNodeInfo(node_id='1f48a27d-db21-4366-9710-5f91bfd9dc82', node_type=<ObjectType.DOCUMENT: '4'>, metadata={}, hash='486b78f3cab1673d4f51eb2b2def1c9ec04e60088eb1379aa27ccc2de19b7c94'), <NodeRelationship.PREVIOUS: '2'>: RelatedNodeInfo(node_id='2878bb75-770c-43ad-9fe7-3b4c9a11552b', node_type=<ObjectType.TEXT: '1'>, metadata={}, hash='fb9bd155f6fe655738d4c664d721c35703b03aeed9316260ec856c3736cc1f16'), <NodeRelationship.NEXT: '3'>: RelatedNodeInfo(node_id='144f5c4b-43c7-4348-bf2c-90095131f3a2', node_type=<ObjectType.TEXT: '1'>, metadata={}, hash='2a50d9bd8d6710ff48712c969f222c6bbc5826a2d419860a9d6583e38f7eed9e')}, metadata_template='{key}: {value}', metadata_separator='\\n', text='Arend eingearbeitet.\\n \\r\\nTOP 1 (1. Satz) \\r\\nDer Bauherr ist durch den Dezernenten für die Planung von Ingenieurbauwerken aus den Zentrale von Hessen Mobil , Herrn Eberhard Pelke .... \\r\\n\\nTOP 2 (letzter Satz) \\r\\nIn der nächsten Besprechung (voraussichtlich am 23.02.2016) wird mit den entsprechenden Beteiligten die Einrichtung von Tagesbaustellen abgeklärt..\\n \\r\\nIn Anlage 2 ist die E-Mail Adresse von Hr. Höhl korrigiert (Schreibfehler IGB).', mimetype='text/plain', start_char_idx=214, end_char_idx=651, metadata_seperator='\\n', text_template='{metadata_str}\\n\\n{content}'),\n",
       " TextNode(id_='144f5c4b-43c7-4348-bf2c-90095131f3a2', embedding=None, metadata={'uuid': 'a11fb4c5-e93b-425c-84aa-0c0cb764327f', 'date': 'Mon, 25 Jan 2016 16:16:00 +0100', 'from': \"[('Alfred Krill', 'alfred.krill@ingenieurgruppe-bauen.de')]\", 'to': '[(\"\\'Falko.Arend@mobil.hessen.de\\'\", \\'Falko.Arend@mobil.hessen.de\\'), (\"\\'Eberhard.Pelke@mobil.hessen.de\\'\", \\'Eberhard.Pelke@mobil.hessen.de\\'), (\"\\'Dieter.Berger@mobil.hessen.de\\'\", \\'Dieter.Berger@mobil.hessen.de\\'), (\"\\'Ralf.Hundertmark@mobil.hessen.de\\'\", \\'Ralf.Hundertmark@mobil.hessen.de\\'), (\"\\'martin.rudolf@ingenieurgruppe-bauen.de\\'\", \\'martin.rudolf@ingenieurgruppe-bauen.de\\'), (\"\\'Johannes Pauen\\'\", \\'johannes.pauen@ingenieurgruppe-bauen.de\\'), (\"\\'T.Rauert@wtm-hh.de\\'\", \\'T.Rauert@wtm-hh.de\\'), (\"\\'patrick.hoehl@ingenieurgruppe-bauen.de\\'\", \\'patrick.hoehl@ingenieurgruppe-bauen.de\\')]', 'subject': 'A44 - Fuldabrücke Bergshausen 1. Projektgespräch (Projekteröffnung 21.01.2016)_Revision 1', 'attachments': None, 'num': 3}, excluded_embed_metadata_keys=[], excluded_llm_metadata_keys=[], relationships={<NodeRelationship.SOURCE: '1'>: RelatedNodeInfo(node_id='1f48a27d-db21-4366-9710-5f91bfd9dc82', node_type=<ObjectType.DOCUMENT: '4'>, metadata={}, hash='486b78f3cab1673d4f51eb2b2def1c9ec04e60088eb1379aa27ccc2de19b7c94'), <NodeRelationship.PREVIOUS: '2'>: RelatedNodeInfo(node_id='64a60795-3c2f-4ec1-a948-22c3b751b3ab', node_type=<ObjectType.TEXT: '1'>, metadata={}, hash='8e9cd41f3a4be4f1b2d84d823aa23632e6caa578afb87209fb3562f974d282ef')}, metadata_template='{key}: {value}', metadata_separator='\\n', text='Höhl korrigiert (Schreibfehler IGB).\\n \\r\\n \\r\\nMit freundlichen Grüßen \\r\\n \\r\\ni.A. Dr. - Ing. Alfred Krill', mimetype='text/plain', start_char_idx=615, end_char_idx=715, metadata_seperator='\\n', text_template='{metadata_str}\\n\\n{content}'),\n",
       " TextNode(id_='000b2c01-baad-40cd-85d4-57750158a169', embedding=None, metadata={'uuid': '8aa6ae15-a2a5-4c51-954d-8a54df9ead31', 'date': 'Mon, 25 Jan 2016 08:44:00 +0100', 'from': \"[('Alfred Krill', 'alfred.krill@ingenieurgruppe-bauen.de')]\", 'to': '[(\"\\'Falko.Arend@mobil.hessen.de\\'\", \\'Falko.Arend@mobil.hessen.de\\'), (\"\\'Eberhard.Pelke@mobil.hessen.de\\'\", \\'Eberhard.Pelke@mobil.hessen.de\\'), (\"\\'Dieter.Berger@mobil.hessen.de\\'\", \\'Dieter.Berger@mobil.hessen.de\\'), (\"\\'Ralf.Hundertmark@mobil.hessen.de\\'\", \\'Ralf.Hundertmark@mobil.hessen.de\\'), (\"\\'martin.rudolf@ingenieurgruppe-bauen.de\\'\", \\'martin.rudolf@ingenieurgruppe-bauen.de\\'), (\"\\'Johannes Pauen\\'\", \\'johannes.pauen@ingenieurgruppe-bauen.de\\'), (\\'\\', \\'T.Rauert@wtm-hh.de\\'), (\"\\'patrick.hoehl@ingenieurgruppe-bauen.de\\'\", \\'patrick.hoehl@ingenieurgruppe-bauen.de\\')]', 'subject': 'A44 - Fuldabrücke Bergshausen 1. Projektgespräch (Projekteröffnung 21.01.2016)', 'attachments': None, 'num': 1}, excluded_embed_metadata_keys=[], excluded_llm_metadata_keys=[], relationships={<NodeRelationship.SOURCE: '1'>: RelatedNodeInfo(node_id='08b950a0-478f-44e3-b7ab-6b3dcc792d9f', node_type=<ObjectType.DOCUMENT: '4'>, metadata={}, hash='5de376ba74a670cadedad6e5365c0906d1b1f7a900d62f72240869630ae296a1')}, metadata_template='{key}: {value}', metadata_separator='\\n', text='Sehr geehrte Herren,\\n \\r\\nanbei erhalten Sie das Besprechungsprotokoll des Eröffnungsgespräches mit den entsprechenden Anlagen.\\n \\r\\n \\r\\nMit freundlichen Grüßen \\r\\n \\r\\ni.A. Dr. - Ing. Alfred Krill', mimetype='text/plain', start_char_idx=0, end_char_idx=189, metadata_seperator='\\n', text_template='{metadata_str}\\n\\n{content}'),\n",
       " TextNode(id_='e937928e-1b77-4eec-bb73-34065cb9e3d4', embedding=None, metadata={'uuid': '625181da-c25c-4601-97e7-f2cb429d45b9', 'date': 'Wed, 24 Feb 2016 12:14:00 +0100', 'from': \"[('Patrick Höhl', 'patrick.hoehl@ingenieurgruppe-bauen.de')]\", 'to': \"[('Falko Arend', 'Falko.Arend@mobil.hessen.de'), ('Ansgar Schabrich', 'ansgar.schabrich@mobil.hessen.de'), ('Andreas Rös', 'andreas.roes@mobil.hessen.de')]\", 'subject': 'A 44 Ertüchtigung Fuldatalbrücke Bergshausen -  Pos. 3.4 a) Bohrkernentnahme Unterbauten, Beginn der Arbeiten vor Ort', 'attachments': None, 'num': 1}, excluded_embed_metadata_keys=[], excluded_llm_metadata_keys=[], relationships={<NodeRelationship.SOURCE: '1'>: RelatedNodeInfo(node_id='fdf35df8-3f77-4d95-a0b6-87eb88fbc9c0', node_type=<ObjectType.DOCUMENT: '4'>, metadata={}, hash='06b19bda9ef0b421e7430322bde6a232b2f6c877c028ea50b26594c7134de069')}, metadata_template='{key}: {value}', metadata_separator='\\n', text='Sehr geehrter Herr Arend, sehr geehrter Herr Schabrich, sehr geehrter Herr Rös,\\n \\r\\ndie Entnahme der Bohrkerne wird am 07.03.16 beginnen. Die Arbeiten werden von der Kernbohrtechnik Spiske GmbH aus Calden-Westuffeln durchgeführt.\\n \\r\\nAm 07.03.16 werde ich vor Ort sein. Die Uhrzeit steht noch nicht fest, bei Interesse teile ich sie Ihnen gerne mit.\\n \\r\\nMit freundlichen Grüßen \\r\\n \\r\\ni.A. Dipl.-Ing. Patrick Höhl', mimetype='text/plain', start_char_idx=0, end_char_idx=408, metadata_seperator='\\n', text_template='{metadata_str}\\n\\n{content}')]"
      ]
     },
     "execution_count": 3,
     "metadata": {},
     "output_type": "execute_result"
    }
   ],
   "source": [
    "# iterate through all emails in a folder and parse them to textnodes\n",
    "directory_path = 'mails/'\n",
    "file_list = [f for f in os.listdir(directory_path) if os.path.isfile(os.path.join(directory_path, f))]\n",
    "\n",
    "\n",
    "all_text_nodes = []\n",
    "\n",
    "for file in file_list:\n",
    "    file_path = directory_path + file\n",
    "    with open(file_path, 'r') as f:\n",
    "        mail = mailparser.parse_from_file_obj(f)\n",
    "\n",
    "        nodes = parse_email(mail)\n",
    "        all_text_nodes.extend(nodes)\n",
    "\n",
    "all_text_nodes"
   ]
  },
  {
   "cell_type": "code",
   "execution_count": 4,
   "metadata": {},
   "outputs": [],
   "source": [
    "index.insert_nodes(all_text_nodes)\n"
   ]
  },
  {
   "cell_type": "code",
   "execution_count": 13,
   "metadata": {},
   "outputs": [],
   "source": [
    "retriever = index.as_retriever(similarity_top_k=4)\n",
    "result_nodes = retriever.retrieve(\"Patick Höhl\")"
   ]
  },
  {
   "cell_type": "code",
   "execution_count": 14,
   "metadata": {},
   "outputs": [
    {
     "name": "stdout",
     "output_type": "stream",
     "text": [
      "None\n",
      "None\n",
      "None\n",
      "None\n"
     ]
    }
   ],
   "source": [
    "for node_with_score in result_nodes:\n",
    "    node = node_with_score.node\n",
    "    embedding = node.embedding\n",
    "    print(embedding)"
   ]
  },
  {
   "cell_type": "code",
   "execution_count": 15,
   "metadata": {},
   "outputs": [
    {
     "data": {
      "text/plain": [
       "[NodeWithScore(node=TextNode(id_='ab50dc87-76cc-41b1-9573-1c4da6d73e79', embedding=None, metadata={'uuid': '3dd40b04-b8a4-4547-ab82-a1cedccf4ddf', 'date': 'Mon, 15 Feb 2016 10:18:00 +0100', 'from': \"[('Patrick Höhl', 'patrick.hoehl@ingenieurgruppe-bauen.de')]\", 'to': \"[('', 'Falko.Arend@mobil.hessen.de')]\", 'subject': 'A44 Ertüchtigung Fuldatalbrücke Bergshausen - Konzept zur Probenentnahme und Vermessung ohne Untersichtgerät', 'attachments': None, 'num': 4}, excluded_embed_metadata_keys=[], excluded_llm_metadata_keys=[], relationships={<NodeRelationship.SOURCE: '1'>: RelatedNodeInfo(node_id='91c6cde9-3a46-4bee-b435-7e5064984a51', node_type='4', metadata={}, hash='ce3452e30f9326794830bfb788473f34e55df156772a932ca324817ca2bb90a7'), <NodeRelationship.PREVIOUS: '2'>: RelatedNodeInfo(node_id='257b740a-0ab2-4f67-b190-54e6a4ca0ae0', node_type='1', metadata={}, hash='b4df1ea5b093934842049c1d39589dfb3f9473abf7e875221e80da5528dfde03')}, metadata_template='{key}: {value}', metadata_separator='\\n', text='Mit freundlichen Grüßen \\r\\n \\r\\ni.A. Dipl.-Ing. Patrick Höhl', mimetype='text/plain', start_char_idx=1181, end_char_idx=1238, metadata_seperator='\\n', text_template='{metadata_str}\\n\\n{content}'), score=0.38257625094080716),\n",
       " NodeWithScore(node=TextNode(id_='33c0a94a-640c-4ef2-916e-3b5b775783eb', embedding=None, metadata={'uuid': '8bf90f0a-8b87-4b37-9558-860f3f9332c0', 'date': 'Mon, 15 Feb 2016 10:18:00 +0100', 'from': \"[('Patrick Höhl', 'patrick.hoehl@ingenieurgruppe-bauen.de')]\", 'to': \"[('', 'Falko.Arend@mobil.hessen.de')]\", 'subject': 'A44 Ertüchtigung Fuldatalbrücke Bergshausen - Konzept zur Probenentnahme und Vermessung ohne Untersichtgerät', 'attachments': None, 'num': 4}, excluded_embed_metadata_keys=[], excluded_llm_metadata_keys=[], relationships={<NodeRelationship.SOURCE: '1'>: RelatedNodeInfo(node_id='825ee3d9-f0d8-4786-923f-537d30126d3c', node_type='4', metadata={}, hash='ce3452e30f9326794830bfb788473f34e55df156772a932ca324817ca2bb90a7'), <NodeRelationship.PREVIOUS: '2'>: RelatedNodeInfo(node_id='8b614f0f-9360-4aa2-9cd9-e3c48aa96e56', node_type='1', metadata={}, hash='b4df1ea5b093934842049c1d39589dfb3f9473abf7e875221e80da5528dfde03')}, metadata_template='{key}: {value}', metadata_separator='\\n', text='Mit freundlichen Grüßen \\r\\n \\r\\ni.A. Dipl.-Ing. Patrick Höhl', mimetype='text/plain', start_char_idx=1181, end_char_idx=1238, metadata_seperator='\\n', text_template='{metadata_str}\\n\\n{content}'), score=0.3799858366054641),\n",
       " NodeWithScore(node=TextNode(id_='ec9671b9-6956-4d16-844b-26b6a40cca96', embedding=None, metadata={'uuid': '0005eb90-f0aa-4f41-8161-d0a8356da285', 'date': 'Thu, 14 Jan 2016 09:53:00 +0100', 'from': \"[('Patrick Höhl', 'patrick.hoehl@ingenieurgruppe-bauen.de')]\", 'to': \"[('Johannes Henze (johannes.henze@mobil.hessen.de)', 'johannes.henze@mobil.hessen.de')]\", 'subject': 'A44 Ertüchtigung Fuldatalbrücke Bergshausen - Erster Ortstermin 26.01.16', 'attachments': None, 'num': 2}, excluded_embed_metadata_keys=[], excluded_llm_metadata_keys=[], relationships={<NodeRelationship.SOURCE: '1'>: RelatedNodeInfo(node_id='f47c4d5e-0a2d-4237-bdcc-b6bb6a5a03dc', node_type='4', metadata={}, hash='c2fca44f45922d3a6a28d4a55d95f8569006d9e9d23cacc2d23451c3bd992d2d'), <NodeRelationship.PREVIOUS: '2'>: RelatedNodeInfo(node_id='882df256-37d0-4791-b2d4-50ee826a4f22', node_type='1', metadata={}, hash='96f67612ea19585812ee9e94c9cdc98912f0af00f04a6464613383a0fe3f74fc')}, metadata_template='{key}: {value}', metadata_separator='\\n', text='Vom Büro WTM aus Hamburg nimmt Herr Dr. Rauert teil.\\n \\r\\nZur Abstimmung unterwegs können Sie die Handynummer von Herrn Rudolf verwenden: 0173 9681546\\n \\r\\nFür eventuelle Rückfragen stehe ich Ihnen selbstverständlich gerne zur Verfügung.\\n \\r\\nMit freundlichen Grüßen \\r\\n \\r\\ni.A. Dipl.-Ing. Patrick Höhl', mimetype='text/plain', start_char_idx=332, end_char_idx=626, metadata_seperator='\\n', text_template='{metadata_str}\\n\\n{content}'), score=0.35915263884773346),\n",
       " NodeWithScore(node=TextNode(id_='4aae9f25-2e40-4c8d-8498-9b803c07bdcd', embedding=None, metadata={'uuid': '2cd61bdd-bd6f-41b2-8526-316e5a2c9cd5', 'date': 'Mon, 15 Feb 2016 10:19:00 +0100', 'from': \"[('Patrick Höhl', 'patrick.hoehl@ingenieurgruppe-bauen.de')]\", 'to': \"[('', 'Falko.Arend@mobil.hessen.de')]\", 'subject': 'A44 Ertüchtigung Fuldatalbrücke Bergshausen - Konzept zur Probenentnahme und Vermessung mit Untersichtgerät', 'attachments': None, 'num': 1}, excluded_embed_metadata_keys=[], excluded_llm_metadata_keys=[], relationships={<NodeRelationship.SOURCE: '1'>: RelatedNodeInfo(node_id='f8231410-3141-4ae0-97ed-fa925ae31739', node_type='4', metadata={}, hash='1d396f032da539c6c84d36d663e8b6c20ab90f13178a7bfc1768d1fccd966bd0')}, metadata_template='{key}: {value}', metadata_separator='\\n', text='Sehr geehrter Herr Arend,\\n \\r\\nanbei erhalten Sie das alternative Konzept zur Probenentnahme und Vermessung mit Untersichtgerät.\\n \\r\\nMit freundlichen Grüßen \\r\\n \\r\\ni.A. Dipl.-Ing. Patrick Höhl', mimetype='text/plain', start_char_idx=0, end_char_idx=187, metadata_seperator='\\n', text_template='{metadata_str}\\n\\n{content}'), score=0.35710277507034394)]"
      ]
     },
     "execution_count": 15,
     "metadata": {},
     "output_type": "execute_result"
    }
   ],
   "source": [
    "result_nodes"
   ]
  },
  {
   "cell_type": "code",
   "execution_count": null,
   "metadata": {},
   "outputs": [],
   "source": []
  }
 ],
 "metadata": {
  "kernelspec": {
   "display_name": ".venv",
   "language": "python",
   "name": "python3"
  },
  "language_info": {
   "codemirror_mode": {
    "name": "ipython",
    "version": 3
   },
   "file_extension": ".py",
   "mimetype": "text/x-python",
   "name": "python",
   "nbconvert_exporter": "python",
   "pygments_lexer": "ipython3",
   "version": "3.12.8"
  }
 },
 "nbformat": 4,
 "nbformat_minor": 2
}
